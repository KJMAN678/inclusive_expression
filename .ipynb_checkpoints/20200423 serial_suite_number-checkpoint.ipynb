{
 "cells": [
  {
   "cell_type": "code",
   "execution_count": 13,
   "metadata": {},
   "outputs": [
    {
     "name": "stdout",
     "output_type": "stream",
     "text": [
      "['No.1', 'No.2', 'No.3', 'No.4', 'No.5', 'No.6', 'No.7', 'No.8', 'No.9']\n"
     ]
    }
   ],
   "source": [
    "list = [f\"No.{num}\" for num in range(1, 10)]\n",
    "list"
   ]
  },
  {
   "cell_type": "code",
   "execution_count": 14,
   "metadata": {},
   "outputs": [
    {
     "name": "stdout",
     "output_type": "stream",
     "text": [
      "['♠1',\n",
      " '♠2',\n",
      " '♠3',\n",
      " '♠4',\n",
      " '♠5',\n",
      " '♠6',\n",
      " '♠7',\n",
      " '♠8',\n",
      " '♠9',\n",
      " '♠10',\n",
      " '♠11',\n",
      " '♠12',\n",
      " '♠13',\n",
      " '♡1',\n",
      " '♡2',\n",
      " '♡3',\n",
      " '♡4',\n",
      " '♡5',\n",
      " '♡6',\n",
      " '♡7',\n",
      " '♡8',\n",
      " '♡9',\n",
      " '♡10',\n",
      " '♡11',\n",
      " '♡12',\n",
      " '♡13',\n",
      " '♢1',\n",
      " '♢2',\n",
      " '♢3',\n",
      " '♢4',\n",
      " '♢5',\n",
      " '♢6',\n",
      " '♢7',\n",
      " '♢8',\n",
      " '♢9',\n",
      " '♢10',\n",
      " '♢11',\n",
      " '♢12',\n",
      " '♢13',\n",
      " '♣1',\n",
      " '♣2',\n",
      " '♣3',\n",
      " '♣4',\n",
      " '♣5',\n",
      " '♣6',\n",
      " '♣7',\n",
      " '♣8',\n",
      " '♣9',\n",
      " '♣10',\n",
      " '♣11',\n",
      " '♣12',\n",
      " '♣13']\n"
     ]
    }
   ],
   "source": [
    "cards = [f\"{suit}{num}\" for suit in (\"♠\", \"♡\", \"♢\", \"♣\") for num in range(1, 14)]\n",
    "cards"
   ]
  },
  {
   "cell_type": "code",
   "execution_count": 1,
   "metadata": {},
   "outputs": [
    {
     "data": {
      "text/plain": [
       "[1, 2, 3, 4, 5, 6, 7, 8, 9]"
      ]
     },
     "execution_count": 1,
     "metadata": {},
     "output_type": "execute_result"
    }
   ],
   "source": [
    "list2 = [i for i in range(1,10)]\n",
    "list2"
   ]
  }
 ],
 "metadata": {
  "kernelspec": {
   "display_name": "Python 3",
   "language": "python",
   "name": "python3"
  },
  "language_info": {
   "codemirror_mode": {
    "name": "ipython",
    "version": 3
   },
   "file_extension": ".py",
   "mimetype": "text/x-python",
   "name": "python",
   "nbconvert_exporter": "python",
   "pygments_lexer": "ipython3",
   "version": "3.8.2"
  }
 },
 "nbformat": 4,
 "nbformat_minor": 4
}
